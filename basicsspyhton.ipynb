{
 "cells": [
  {
   "cell_type": "code",
   "execution_count": 8,
   "id": "b50d8a64-610d-45be-8bf0-cdc7e1c31369",
   "metadata": {},
   "outputs": [
    {
     "name": "stdout",
     "output_type": "stream",
     "text": [
      "{'cumulative_sum': 28, 'average': 5.6, 'min': 2, 'max': 10}\n",
      "{'error': 'All elements in the list must be numbers.'}\n"
     ]
    }
   ],
   "source": [
    "def calculate_stats(numbers):\n",
    "    try:\n",
    "        # Ensure 'numbers' is a list or iterable of numbers\n",
    "        if not isinstance(numbers, (list, tuple)):\n",
    "            raise TypeError(\"Input must be a list or tuple of numbers.\")\n",
    "        \n",
    "        # Ensure all elements in the list are numeric (int or float)\n",
    "        if not all(isinstance(n, (int, float)) for n in numbers):\n",
    "            raise ValueError(\"All elements in the list must be numbers.\")\n",
    "        \n",
    "        if not numbers:\n",
    "            return {'cumulative_sum': 0, 'average': None, 'min': None, 'max': None}\n",
    "        \n",
    "        # Use built-in functions for sum, min, max\n",
    "        cumulative_sum = sum(numbers)\n",
    "        average = cumulative_sum / len(numbers)\n",
    "        minimum = min(numbers)\n",
    "        maximum = max(numbers)\n",
    "        \n",
    "        # Return the results as a dictionary\n",
    "        return {'cumulative_sum': cumulative_sum, 'average': average, 'min': minimum, 'max': maximum}\n",
    "\n",
    "    except (TypeError, ValueError) as e:\n",
    "        return {'error': str(e)}\n",
    "\n",
    "# Example usage\n",
    "numbers = [5, 8, 2, 10, 3]\n",
    "result = calculate_stats(numbers)\n",
    "print(result)\n",
    "\n",
    "# Example usage with error\n",
    "result_error = calculate_stats([5, '8', 2, 10, 3])\n",
    "print(result_error)\n",
    "\n"
   ]
  },
  {
   "cell_type": "code",
   "execution_count": 10,
   "id": "afbdfc73-d926-46a9-8160-36d29002990d",
   "metadata": {},
   "outputs": [
    {
     "name": "stdin",
     "output_type": "stream",
     "text": [
      "Enter the number of inputs:  a\n"
     ]
    },
    {
     "name": "stdout",
     "output_type": "stream",
     "text": [
      "Invalid input: invalid literal for int() with base 10: 'a'. Please enter a valid integer.\n"
     ]
    },
    {
     "name": "stdin",
     "output_type": "stream",
     "text": [
      "Enter the number of inputs:  2\n",
      "Enter a number:  3\n",
      "Enter a number:  4\n"
     ]
    },
    {
     "name": "stdout",
     "output_type": "stream",
     "text": [
      "List of numbers: [3, 4]\n"
     ]
    }
   ],
   "source": [
    "def get_numbers_from_user():\n",
    "    while True:\n",
    "        try:\n",
    "            # Get the number of inputs\n",
    "            n = int(input(\"Enter the number of inputs: \"))\n",
    "            if n <= 0:\n",
    "                raise ValueError(\"The number of inputs must be a positive integer.\")\n",
    "            break\n",
    "        except ValueError as ve:\n",
    "            print(f\"Invalid input: {ve}. Please enter a valid integer.\")\n",
    "    \n",
    "    numbers = []\n",
    "    for _ in range(n):\n",
    "        while True:\n",
    "            try:\n",
    "                # Get each number\n",
    "                number = int(input(\"Enter a number: \"))\n",
    "                numbers.append(number)\n",
    "                break\n",
    "            except ValueError:\n",
    "                print(\"Invalid input. Please enter a valid integer.\")\n",
    "    \n",
    "    return numbers\n",
    "\n",
    "# Example usage\n",
    "numbers = get_numbers_from_user()\n",
    "print(\"List of numbers:\", numbers)\n"
   ]
  },
  {
   "cell_type": "code",
   "execution_count": 12,
   "id": "15c7a06c-c1e3-4ed4-adbd-183734264bb2",
   "metadata": {},
   "outputs": [
    {
     "name": "stdout",
     "output_type": "stream",
     "text": [
      "Enter numbers one by one (type 'stop' to finish):\n"
     ]
    },
    {
     "name": "stdin",
     "output_type": "stream",
     "text": [
      " 2\n",
      " 9\n",
      " 8\n",
      " 7\n",
      " 6\n",
      " 5\n",
      " 4\n",
      " 3\n",
      " 2\n",
      " 1\n",
      " 0\n",
      " 1\n",
      " 2\n",
      " stop\n"
     ]
    },
    {
     "name": "stdout",
     "output_type": "stream",
     "text": [
      "List of numbers: [2, 9, 8, 7, 6, 5, 4, 3, 2, 1, 0, 1, 2]\n"
     ]
    }
   ],
   "source": [
    "def get_numbers_from_user():\n",
    "    numbers = []\n",
    "    print(\"Enter numbers one by one (type 'stop' to finish):\")\n",
    "    \n",
    "    while True:\n",
    "        try:\n",
    "            user_input = input()\n",
    "            if user_input.lower() == 'stop':\n",
    "                break\n",
    "            \n",
    "            # Attempt to convert the input to an integer\n",
    "            number = int(user_input)\n",
    "            numbers.append(number)\n",
    "        \n",
    "        except ValueError:\n",
    "            # Handle the case where the input is not a valid integer\n",
    "            print(\"Invalid input. Please enter a valid number or type 'stop' to finish.\")\n",
    "    \n",
    "    return numbers\n",
    "\n",
    "# Example usage\n",
    "numbers = get_numbers_from_user()\n",
    "print(\"List of numbers:\", numbers)\n"
   ]
  }
 ],
 "metadata": {
  "kernelspec": {
   "display_name": "Python 3 (ipykernel)",
   "language": "python",
   "name": "python3"
  },
  "language_info": {
   "codemirror_mode": {
    "name": "ipython",
    "version": 3
   },
   "file_extension": ".py",
   "mimetype": "text/x-python",
   "name": "python",
   "nbconvert_exporter": "python",
   "pygments_lexer": "ipython3",
   "version": "3.12.4"
  }
 },
 "nbformat": 4,
 "nbformat_minor": 5
}
